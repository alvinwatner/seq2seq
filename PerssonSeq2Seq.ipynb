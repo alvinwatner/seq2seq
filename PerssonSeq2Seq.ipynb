{
  "nbformat": 4,
  "nbformat_minor": 0,
  "metadata": {
    "colab": {
      "name": "PerssonSeq2Seq.ipynb",
      "provenance": [],
      "collapsed_sections": []
    },
    "kernelspec": {
      "name": "python3",
      "display_name": "Python 3"
    },
    "accelerator": "GPU"
  },
  "cells": [
    {
      "cell_type": "markdown",
      "metadata": {
        "id": "QRxMalLqnlIO"
      },
      "source": [
        "#<div align=\"center\">Sequence to Sequence</div>\n",
        "\n",
        "---\n",
        "###### Author     : alvinwatner\n",
        "###### Inspired by : Aladdin Persson (https://www.youtube.com/watch?v=EoGUlvhRYpk&t=2146s)\n",
        "---\n",
        "\n",
        "##To reproduce : \n",
        "\n",
        "1.   Make sure you have utils.py inside your google drive, otherwise there are 2 ways to acquire utils.py file :\n",
        "\n",
        "  *   Open and Run the [utils.ipynb](https://colab.research.google.com/drive/1tkh9NyoKLfl4gk8L3_JKVGfCMIXDLy37?usp=sharing).\n",
        "  *   Download from this [link](https://drive.google.com/file/d/18RMp42VvfMSdUfxxYKR_1QiA5fWcbgus/view?usp=sharing).\n",
        "\n",
        "  Also make sure the **utils.py** is inside the **main_path** directory that specified on the *second cell*.\n",
        "\n",
        "\n",
        "2. Create \"**Checkpoint**\" folder inside the **main_path**.\n",
        "3. Create \"**plot**\" folder inside the **main_path** .\n",
        "\n",
        "\n",
        "\n",
        "\n",
        "\n",
        "\n",
        "<br/>\n",
        "\n",
        "---\n",
        "\n",
        "###### *Note : Don't forget to change runtime type to **GPU**, and **CTRL + F9** to run all cells, otherwise the training will run super slow. Enjoy~*"
      ]
    },
    {
      "cell_type": "code",
      "metadata": {
        "colab": {
          "base_uri": "https://localhost:8080/"
        },
        "id": "oVDR37uU2t_Y",
        "outputId": "01daae35-391e-4169-9aee-679d8b59bdb9"
      },
      "source": [
        "# Mount to gdrive and have a peek to current path\n",
        "from google.colab import drive \n",
        "drive. mount('/content/drive')"
      ],
      "execution_count": 28,
      "outputs": [
        {
          "output_type": "stream",
          "text": [
            "Drive already mounted at /content/drive; to attempt to forcibly remount, call drive.mount(\"/content/drive\", force_remount=True).\n"
          ],
          "name": "stdout"
        }
      ]
    },
    {
      "cell_type": "code",
      "metadata": {
        "id": "mYpNaxOt3Se1"
      },
      "source": [
        "# Main path for tensorboard and checkpoint\n",
        "main_path = '/content/drive/MyDrive/Colab Notebooks/NLP/Pytorch/Seq2seq/'"
      ],
      "execution_count": 29,
      "outputs": []
    },
    {
      "cell_type": "code",
      "metadata": {
        "colab": {
          "base_uri": "https://localhost:8080/"
        },
        "id": "h8P6Eqgq3YeA",
        "outputId": "a9d029d0-6938-4cc0-ee00-9ee8d87ccbed"
      },
      "source": [
        "# Path to utils.py root folder\n",
        "%cd /content/drive/MyDrive/Colab Notebooks/NLP/Pytorch/Seq2seq"
      ],
      "execution_count": 30,
      "outputs": [
        {
          "output_type": "stream",
          "text": [
            "/content/drive/MyDrive/Colab Notebooks/NLP/Pytorch/Seq2seq\n"
          ],
          "name": "stdout"
        }
      ]
    },
    {
      "cell_type": "code",
      "metadata": {
        "colab": {
          "base_uri": "https://localhost:8080/"
        },
        "id": "Io5Y5XQG3bUy",
        "outputId": "02289639-c6b3-43ed-a888-b69627c30966"
      },
      "source": [
        "# Make sure the utils.py is inside the main_path directory that specified on the second cell.\n",
        "!ls -l utils.py"
      ],
      "execution_count": 31,
      "outputs": [
        {
          "output_type": "stream",
          "text": [
            "-rw------- 1 root root 2415 Dec 23 03:36 utils.py\n"
          ],
          "name": "stdout"
        }
      ]
    },
    {
      "cell_type": "code",
      "metadata": {
        "id": "XdTd06nb3d-0"
      },
      "source": [
        "#import utils.py as module\n",
        "from utils import translate_sentence, bleu, save_checkpoint, load_checkpoint"
      ],
      "execution_count": 32,
      "outputs": []
    },
    {
      "cell_type": "code",
      "metadata": {
        "id": "gU3Hgn8e3f5g"
      },
      "source": [
        "import torch\n",
        "import torch.nn as nn\n",
        "import torch.nn.functional as F\n",
        "\n",
        "import torch.optim as optim\n",
        "from torchtext.datasets import Multi30k\n",
        "from torchtext.data import Field, BucketIterator\n",
        "\n",
        "import numpy as np \n",
        "import random\n",
        "import spacy\n",
        "import matplotlib.pyplot as plt\n",
        "\n",
        "import datetime\n",
        "import os"
      ],
      "execution_count": 33,
      "outputs": []
    },
    {
      "cell_type": "code",
      "metadata": {
        "colab": {
          "base_uri": "https://localhost:8080/"
        },
        "id": "dYNxfF-L3jvW",
        "outputId": "d771a615-18ac-4d30-de82-4266a8e1d6b7"
      },
      "source": [
        "device = torch.device('cuda' if torch.cuda.is_available() else 'cpu')\n",
        "print(f\"device = {device}\")"
      ],
      "execution_count": 34,
      "outputs": [
        {
          "output_type": "stream",
          "text": [
            "device = cuda\n"
          ],
          "name": "stdout"
        }
      ]
    },
    {
      "cell_type": "code",
      "metadata": {
        "id": "egL1TR6A2X62"
      },
      "source": [
        "!pip install torchtext==0.6.0 \n",
        "!python -m spacy download de #Language degerman\n",
        "!python -m spacy download en #Language enlish"
      ],
      "execution_count": null,
      "outputs": []
    },
    {
      "cell_type": "code",
      "metadata": {
        "id": "oJtGmxPo3k3o"
      },
      "source": [
        "spacy_ger = spacy.load('de')\n",
        "spacy_en  = spacy.load('en')"
      ],
      "execution_count": 35,
      "outputs": []
    },
    {
      "cell_type": "code",
      "metadata": {
        "id": "k63fc6Iu3oo5"
      },
      "source": [
        "def tokenizer_ger(text):\n",
        "  return [tok.text for tok in spacy_ger.tokenizer(text)]\n",
        "\n",
        "def tokenizer_en(text):\n",
        "  return [tok.text for tok in spacy_en.tokenizer(text)]"
      ],
      "execution_count": 36,
      "outputs": []
    },
    {
      "cell_type": "code",
      "metadata": {
        "id": "Op-zMKmI4Hq9"
      },
      "source": [
        "gerField = Field(tokenize = tokenizer_ger, lower = True, \\\n",
        "                 init_token = '<SOS>', eos_token = '<EOS>')\n",
        "\n",
        "enField = Field(tokenize = tokenizer_en, lower = True, \\\n",
        "                 init_token = '<SOS>', eos_token = '<EOS>')"
      ],
      "execution_count": 37,
      "outputs": []
    },
    {
      "cell_type": "code",
      "metadata": {
        "id": "BlxiZ3Pi4Xpq"
      },
      "source": [
        "train_data, valid_data, test_data = Multi30k.splits(exts = ('.de', '.en'), fields = (gerField, enField))"
      ],
      "execution_count": 38,
      "outputs": []
    },
    {
      "cell_type": "code",
      "metadata": {
        "id": "S04T1_lX4sXq"
      },
      "source": [
        "gerField.build_vocab(train_data, max_size = 10000, min_freq = 2)\n",
        "enField.build_vocab(train_data, max_size = 10000, min_freq = 2)"
      ],
      "execution_count": 39,
      "outputs": []
    },
    {
      "cell_type": "code",
      "metadata": {
        "id": "hGqt8u705Cs3"
      },
      "source": [
        "encoder_input_size = len(gerField.vocab)\n",
        "decoder_input_size = len(enField.vocab)\n",
        "num_layers = 2\n",
        "hidden_size = 1024\n",
        "batch_size = 32\n",
        "embedding_dim = 300\n",
        "dropout = 0.5\n",
        "num_epochs = 10"
      ],
      "execution_count": 40,
      "outputs": []
    },
    {
      "cell_type": "code",
      "metadata": {
        "id": "_R-rM-Aa5GhU"
      },
      "source": [
        "train_iterator, valid_iterator, test_iterator = BucketIterator.splits(\n",
        "    (train_data, valid_data, test_data),\n",
        "    batch_size = batch_size,\n",
        "    sort_within_batch = True,\n",
        "    sort_key = lambda x : len(x.src),\n",
        "    device = device\n",
        ")"
      ],
      "execution_count": 41,
      "outputs": []
    },
    {
      "cell_type": "code",
      "metadata": {
        "id": "jbqWbahH5Ild"
      },
      "source": [
        "class Encoder(nn.Module):\n",
        "  def __init__(self, input_size, embedding_dim, hidden_size, num_layers, dropout):\n",
        "    super().__init__()\n",
        "    self.num_layers = num_layers\n",
        "    self.embedding  = nn.Embedding(input_size, embedding_dim)\n",
        "    self.rnn        = nn.LSTM(embedding_dim, hidden_size, num_layers, dropout = dropout)\n",
        "    self.dropout    = nn.Dropout(dropout)\n",
        "  \n",
        "  def forward(self, inp):\n",
        "    #inp.shape         = (seq_length, batch_size)\n",
        "    embedded           = self.dropout(self.embedding(inp))\n",
        "    #embedded.shape    = (seq_length, batch_size, embedding_dim) \n",
        "    _ , (hidden, cell) = self.rnn(embedded)\n",
        "    #hidden.shape      = (num_layers, batch_size, embedding_dim)\n",
        "    #cell.shape        = (num_layers, batch_size, embedding_dim)\n",
        "    return hidden, cell"
      ],
      "execution_count": 42,
      "outputs": []
    },
    {
      "cell_type": "code",
      "metadata": {
        "id": "yQmVyiVl68Lw"
      },
      "source": [
        "class Decoder(nn.Module):\n",
        "  def __init__(self, input_size, embedding_dim, hidden_size, num_layers, dropout):\n",
        "    super().__init__()\n",
        "    vocab_size      = input_size\n",
        "    self.embedding  = nn.Embedding(vocab_size, embedding_dim)\n",
        "    self.rnn        = nn.LSTM(embedding_dim, hidden_size, num_layers, dropout = dropout)\n",
        "    self.fc         = nn.Linear(hidden_size, vocab_size)\n",
        "    self.dropout    = nn.Dropout(dropout)\n",
        "\n",
        "  def forward(self, inp, hidden, cell):\n",
        "    #inp.shape             = (batch_size,)\n",
        "    inp                    = inp.unsqueeze(0)\n",
        "    #inp.shape             = (1, batch_size)\n",
        "    embedded               = self.dropout(self.embedding(inp) )\n",
        "    #embedded.shape        = (1, batch_size, embedding_dim)\n",
        "    out_de, (hidden, cell) = self.rnn(embedded, (hidden, cell))\n",
        "    #out_de                = (1, batch_size, hidden_size)\n",
        "    #hidden                = (num_layers, batch_size, hidden_size)\n",
        "    #cell                  = (num_layers, batch_size, hidden_size)\n",
        "\n",
        "    out_de                 = self.fc(out_de)\n",
        "    #out_de                = (1, batch_size, vocab_size)\n",
        "    out_de                 = out_de.squeeze(0)\n",
        "    #out_de                = (1, batch_size, vocab_size)\n",
        "\n",
        "    return out_de, hidden, cell\n"
      ],
      "execution_count": 43,
      "outputs": []
    },
    {
      "cell_type": "code",
      "metadata": {
        "id": "THCyM7Gy7QRK"
      },
      "source": [
        "class Seq2Seq(nn.Module):\n",
        "  def __init__(self, encoder, decoder):\n",
        "    super().__init__()\n",
        "    self.encoder = encoder \n",
        "    self.decoder = decoder\n",
        "\n",
        "  def forward(self, source, target, tfr = 0.5):  \n",
        "    #source.shape = (seq_length, batch_size) \n",
        "    #target.shape = (seq_length, batch_size) \n",
        "    seq_length    = target.shape[0]\n",
        "    batch_size    = target.shape[1]\n",
        "    vocab_size    = len(enField.vocab)\n",
        "    outputs       = torch.zeros(seq_length, batch_size, vocab_size).to(device)\n",
        "\n",
        "    # init_token = <SOS>\n",
        "    inp = target[0]\n",
        "    #inp.shape = (32,)\n",
        "\n",
        "    hidden, cell = self.encoder(source)\n",
        "    \n",
        "    for t in range(1, seq_length):\n",
        "      output, hidden, cell = self.decoder(inp, hidden, cell)\n",
        "      #output.shape        = (batch_size, vocab_size)\n",
        "      #hidden.shape        = (batch_size, vocab_size) \n",
        "\n",
        "      outputs[t] = output\n",
        "\n",
        "      best_guess = output.argmax(1)\n",
        "      \n",
        "      inp = best_guess if random.random() > tfr else target[t]\n",
        "\n",
        "    return outputs"
      ],
      "execution_count": 44,
      "outputs": []
    },
    {
      "cell_type": "code",
      "metadata": {
        "id": "HB55i3LoBAUZ"
      },
      "source": [
        "encoder = Encoder(encoder_input_size, embedding_dim, hidden_size, num_layers, dropout).to(device)\n",
        "decoder = Decoder(decoder_input_size, embedding_dim, hidden_size, num_layers, dropout).to(device)\n",
        "seq2seq = Seq2Seq(encoder, decoder).to(device)"
      ],
      "execution_count": 45,
      "outputs": []
    },
    {
      "cell_type": "code",
      "metadata": {
        "id": "XdEVQv1oBrBN"
      },
      "source": [
        "pad_idx   = enField.vocab.stoi['<pad>']\n",
        "criterion = nn.CrossEntropyLoss(ignore_index = pad_idx)\n",
        "optimizer = optim.Adam(seq2seq.parameters(), lr = 0.001)"
      ],
      "execution_count": 46,
      "outputs": []
    },
    {
      "cell_type": "code",
      "metadata": {
        "id": "v5Ww-_FMCZv4"
      },
      "source": [
        "plot_ = {'avg_loss' : [], 'epoch' : []}"
      ],
      "execution_count": 47,
      "outputs": []
    },
    {
      "cell_type": "code",
      "metadata": {
        "id": "bHWtJJchCeZ3"
      },
      "source": [
        "load_model = False\n",
        "\n",
        "if load_model:\n",
        "  model_name    = 'PerssonSeq2seq'\n",
        "  current_epoch = 0\n",
        "  path = f\"{main_path}/Checkpoint/|Model_{model_name}|Epoch_{current_epoch}.pth.tar\"\n",
        "  load_checkpoint(torch.load(path), seq2seq, optimizer)\n",
        "else:\n",
        "  model_name = 'Seq2Seq'\n",
        "  current_epoch = 0"
      ],
      "execution_count": 48,
      "outputs": []
    },
    {
      "cell_type": "code",
      "metadata": {
        "id": "w5QQErDrJnIm"
      },
      "source": [
        "import datetime\n",
        "import pytz\n",
        "\n",
        "time_zone = pytz.timezone('Asia/Jakarta')\n",
        "\n",
        "def delta_time(start_time, stop_time):\n",
        "  delta_time = stop_time - start_time\n",
        "  minute, second = divmod(delta_time.total_seconds(), 60)  \n",
        "  hour, minute   = divmod(minute, 60)  \n",
        "\n",
        "  return int(hour), int(minute), int(second)"
      ],
      "execution_count": 49,
      "outputs": []
    },
    {
      "cell_type": "code",
      "metadata": {
        "colab": {
          "base_uri": "https://localhost:8080/"
        },
        "id": "d3JuuU_sCmHp",
        "outputId": "283ce233-0eae-4a9f-8401-c2cf3bef2519"
      },
      "source": [
        "start_time = datetime.datetime.now(time_zone)\n",
        "\n",
        "for epoch in range(num_epochs):\n",
        "  epoch_loss     = 0\n",
        "  iteration_loss = [] \n",
        "\n",
        "  for batch_idx, batch in enumerate(train_iterator):\n",
        "    source = batch.src.to(device)\n",
        "    target = batch.trg.to(device)\n",
        "\n",
        "    outputs = seq2seq(source, target)\n",
        "    outputs = outputs[1:].reshape(-1, outputs.shape[2])\n",
        "    ground_Truth = target[1:].reshape(-1)\n",
        "\n",
        "    optimizer.zero_grad()\n",
        "    loss = criterion(outputs, ground_Truth)\n",
        "    loss.backward()\n",
        "    torch.nn.utils.clip_grad_norm(seq2seq.parameters(), max_norm = 1)\n",
        "    optimizer.step()\n",
        "    loss_val = loss.item()\n",
        "    iteration_loss.append(loss_val)\n",
        "\n",
        "    epoch_loss += loss_val\n",
        "\n",
        "    # Average loss for the last 100 iteration         \n",
        "    if not batch_idx % 100 and batch_idx != 0:\n",
        "      print(f\"EPOCH : {epoch}/{num_epochs - 1} || Batch Iteration : {batch_idx}/{len(train_iterator)} || Avg_Loss from {batch_idx - 100} to {batch_idx} : {sum(iteration_loss[-100:])/100}\") \n",
        "  \n",
        "  \n",
        "  avg_loss = epoch_loss/len(train_iterator)\n",
        "  plot_['avg_loss'].append(avg_loss)\n",
        "  plot_['epoch'].append(epoch)\n",
        "\n",
        "  # Save Current Checkpoint and Plot\n",
        "  checkpoint = {'state_dict' : seq2seq.state_dict(), 'optimizer': optimizer.state_dict()}\n",
        "  save_checkpoint(checkpoint, \n",
        "                  filename=f\"{main_path}Checkpoint/|Model_{model_name}|Epoch_{current_epoch}.pth.tar\")  \n",
        "  \n",
        "  np.save(f\"{main_path}plot/AvgLoss_Model_{model_name}|Epoch_{current_epoch}\", \\\n",
        "                              np.array(plot_['avg_loss']))  \n",
        "  np.save(f\"{main_path}plot/Epoch_Model_{model_name}|Epoch_{current_epoch}\", \\\n",
        "                              np.array(plot_['epoch']))  \n",
        "\n",
        "  # Remove Previous Checkpoint and Plot\n",
        "  if epoch > 0:\n",
        "    os.remove(f\"{main_path}Checkpoint/|Model_{model_name}|Epoch_{current_epoch - 1}.pth.tar\")    \n",
        "    os.remove(f\"{main_path}plot/AvgLoss_Model_{model_name}|Epoch_{current_epoch - 1}.npy\")\n",
        "    os.remove(f\"{main_path}plot/Epoch_Model_{model_name}|Epoch_{current_epoch - 1}.npy\")\n",
        "\n",
        "  if epoch == num_epochs - 1:\n",
        "    stop_time = datetime.datetime.now(time_zone)\n",
        "    hour, minute, second = delta_time(start_time, stop_time)\n",
        "\n",
        "    print(\"\")\n",
        "    print(f\" **************  TRAINING DONE {num_epochs} EPOCHS  ************\")\n",
        "    print(f\" **********  {hour} Hours, {minute} Minutes, {second} Seconds  ********\")        \n",
        "    print(\" ====================================================\")  \n",
        "    print(f\"|              Average Loss : {avg_loss}     |\")   \n",
        "    print(\" ====================================================\") \n",
        "\n",
        "  else:\n",
        "    print(f\" ************** EPOCH - {epoch}/{num_epochs - 1} **************\")\n",
        "    print(f\"|       Average Loss : {avg_loss}           |\")   \n",
        "    print(\" ********************************************\")         \n",
        "    print(\"\")\n",
        "\n",
        "  current_epoch += 1    \n"
      ],
      "execution_count": 50,
      "outputs": [
        {
          "output_type": "stream",
          "text": [
            "/usr/local/lib/python3.6/dist-packages/ipykernel_launcher.py:18: UserWarning: torch.nn.utils.clip_grad_norm is now deprecated in favor of torch.nn.utils.clip_grad_norm_.\n"
          ],
          "name": "stderr"
        },
        {
          "output_type": "stream",
          "text": [
            "EPOCH : 0/9 || Batch Iteration : 100/907 || Avg_Loss from 0 to 100 : 5.186486873626709\n",
            "EPOCH : 0/9 || Batch Iteration : 200/907 || Avg_Loss from 100 to 200 : 4.782468976974488\n",
            "EPOCH : 0/9 || Batch Iteration : 300/907 || Avg_Loss from 200 to 300 : 4.663192913532257\n",
            "EPOCH : 0/9 || Batch Iteration : 400/907 || Avg_Loss from 300 to 400 : 4.474164125919342\n",
            "EPOCH : 0/9 || Batch Iteration : 500/907 || Avg_Loss from 400 to 500 : 4.398435051441193\n",
            "EPOCH : 0/9 || Batch Iteration : 600/907 || Avg_Loss from 500 to 600 : 4.203316080570221\n",
            "EPOCH : 0/9 || Batch Iteration : 700/907 || Avg_Loss from 600 to 700 : 4.158723690509796\n",
            "EPOCH : 0/9 || Batch Iteration : 800/907 || Avg_Loss from 700 to 800 : 4.076728720664978\n",
            "EPOCH : 0/9 || Batch Iteration : 900/907 || Avg_Loss from 800 to 900 : 3.9998026132583617\n",
            "=> Saving checkpoint\n",
            " ************** EPOCH - 0/9 **************\n",
            "|       Average Loss : 4.441307349662402           |\n",
            " ********************************************\n",
            "\n",
            "EPOCH : 1/9 || Batch Iteration : 100/907 || Avg_Loss from 0 to 100 : 3.8706528472900392\n",
            "EPOCH : 1/9 || Batch Iteration : 200/907 || Avg_Loss from 100 to 200 : 3.8573349213600157\n",
            "EPOCH : 1/9 || Batch Iteration : 300/907 || Avg_Loss from 200 to 300 : 3.834089994430542\n",
            "EPOCH : 1/9 || Batch Iteration : 400/907 || Avg_Loss from 300 to 400 : 3.782979416847229\n",
            "EPOCH : 1/9 || Batch Iteration : 500/907 || Avg_Loss from 400 to 500 : 3.7354276990890503\n",
            "EPOCH : 1/9 || Batch Iteration : 600/907 || Avg_Loss from 500 to 600 : 3.6710277891159055\n",
            "EPOCH : 1/9 || Batch Iteration : 700/907 || Avg_Loss from 600 to 700 : 3.675394172668457\n",
            "EPOCH : 1/9 || Batch Iteration : 800/907 || Avg_Loss from 700 to 800 : 3.61686851978302\n",
            "EPOCH : 1/9 || Batch Iteration : 900/907 || Avg_Loss from 800 to 900 : 3.58249694108963\n",
            "=> Saving checkpoint\n",
            " ************** EPOCH - 1/9 **************\n",
            "|       Average Loss : 3.736145752924674           |\n",
            " ********************************************\n",
            "\n",
            "EPOCH : 2/9 || Batch Iteration : 100/907 || Avg_Loss from 0 to 100 : 3.4406613421440126\n",
            "EPOCH : 2/9 || Batch Iteration : 200/907 || Avg_Loss from 100 to 200 : 3.4276540899276733\n",
            "EPOCH : 2/9 || Batch Iteration : 300/907 || Avg_Loss from 200 to 300 : 3.4035860228538515\n",
            "EPOCH : 2/9 || Batch Iteration : 400/907 || Avg_Loss from 300 to 400 : 3.3565459942817686\n",
            "EPOCH : 2/9 || Batch Iteration : 500/907 || Avg_Loss from 400 to 500 : 3.3636444568634034\n",
            "EPOCH : 2/9 || Batch Iteration : 600/907 || Avg_Loss from 500 to 600 : 3.3568017435073854\n",
            "EPOCH : 2/9 || Batch Iteration : 700/907 || Avg_Loss from 600 to 700 : 3.3332926559448244\n",
            "EPOCH : 2/9 || Batch Iteration : 800/907 || Avg_Loss from 700 to 800 : 3.3569225573539736\n",
            "EPOCH : 2/9 || Batch Iteration : 900/907 || Avg_Loss from 800 to 900 : 3.31587810754776\n",
            "=> Saving checkpoint\n",
            " ************** EPOCH - 2/9 **************\n",
            "|       Average Loss : 3.3715183574546135           |\n",
            " ********************************************\n",
            "\n",
            "EPOCH : 3/9 || Batch Iteration : 100/907 || Avg_Loss from 0 to 100 : 3.105241105556488\n",
            "EPOCH : 3/9 || Batch Iteration : 200/907 || Avg_Loss from 100 to 200 : 3.1491803240776064\n",
            "EPOCH : 3/9 || Batch Iteration : 300/907 || Avg_Loss from 200 to 300 : 3.1460889530181886\n",
            "EPOCH : 3/9 || Batch Iteration : 400/907 || Avg_Loss from 300 to 400 : 3.1122127294540407\n",
            "EPOCH : 3/9 || Batch Iteration : 500/907 || Avg_Loss from 400 to 500 : 3.156306130886078\n",
            "EPOCH : 3/9 || Batch Iteration : 600/907 || Avg_Loss from 500 to 600 : 3.143564419746399\n",
            "EPOCH : 3/9 || Batch Iteration : 700/907 || Avg_Loss from 600 to 700 : 3.1555106687545775\n",
            "EPOCH : 3/9 || Batch Iteration : 800/907 || Avg_Loss from 700 to 800 : 3.1007499742507934\n",
            "EPOCH : 3/9 || Batch Iteration : 900/907 || Avg_Loss from 800 to 900 : 3.0546081018447877\n",
            "=> Saving checkpoint\n",
            " ************** EPOCH - 3/9 **************\n",
            "|       Average Loss : 3.1238102760441118           |\n",
            " ********************************************\n",
            "\n",
            "EPOCH : 4/9 || Batch Iteration : 100/907 || Avg_Loss from 0 to 100 : 2.8435577261447906\n",
            "EPOCH : 4/9 || Batch Iteration : 200/907 || Avg_Loss from 100 to 200 : 2.901810032129288\n",
            "EPOCH : 4/9 || Batch Iteration : 300/907 || Avg_Loss from 200 to 300 : 2.9008785319328307\n",
            "EPOCH : 4/9 || Batch Iteration : 400/907 || Avg_Loss from 300 to 400 : 2.900668420791626\n",
            "EPOCH : 4/9 || Batch Iteration : 500/907 || Avg_Loss from 400 to 500 : 2.9415843152999877\n",
            "EPOCH : 4/9 || Batch Iteration : 600/907 || Avg_Loss from 500 to 600 : 2.9399595355987547\n",
            "EPOCH : 4/9 || Batch Iteration : 700/907 || Avg_Loss from 600 to 700 : 2.9617560625076296\n",
            "EPOCH : 4/9 || Batch Iteration : 800/907 || Avg_Loss from 700 to 800 : 2.945342811346054\n",
            "EPOCH : 4/9 || Batch Iteration : 900/907 || Avg_Loss from 800 to 900 : 2.9067926061153413\n",
            "=> Saving checkpoint\n",
            " ************** EPOCH - 4/9 **************\n",
            "|       Average Loss : 2.9173024302675024           |\n",
            " ********************************************\n",
            "\n",
            "EPOCH : 5/9 || Batch Iteration : 100/907 || Avg_Loss from 0 to 100 : 2.685624947547913\n",
            "EPOCH : 5/9 || Batch Iteration : 200/907 || Avg_Loss from 100 to 200 : 2.7277551794052126\n",
            "EPOCH : 5/9 || Batch Iteration : 300/907 || Avg_Loss from 200 to 300 : 2.772820550203323\n",
            "EPOCH : 5/9 || Batch Iteration : 400/907 || Avg_Loss from 300 to 400 : 2.7306278347969055\n",
            "EPOCH : 5/9 || Batch Iteration : 500/907 || Avg_Loss from 400 to 500 : 2.7330889105796814\n",
            "EPOCH : 5/9 || Batch Iteration : 600/907 || Avg_Loss from 500 to 600 : 2.7349732899665833\n",
            "EPOCH : 5/9 || Batch Iteration : 700/907 || Avg_Loss from 600 to 700 : 2.751969178915024\n",
            "EPOCH : 5/9 || Batch Iteration : 800/907 || Avg_Loss from 700 to 800 : 2.724396245479584\n",
            "EPOCH : 5/9 || Batch Iteration : 900/907 || Avg_Loss from 800 to 900 : 2.7701323223114014\n",
            "=> Saving checkpoint\n",
            " ************** EPOCH - 5/9 **************\n",
            "|       Average Loss : 2.7385926935349434           |\n",
            " ********************************************\n",
            "\n",
            "EPOCH : 6/9 || Batch Iteration : 100/907 || Avg_Loss from 0 to 100 : 2.5114207184314727\n",
            "EPOCH : 6/9 || Batch Iteration : 200/907 || Avg_Loss from 100 to 200 : 2.5484246969223023\n",
            "EPOCH : 6/9 || Batch Iteration : 300/907 || Avg_Loss from 200 to 300 : 2.551492533683777\n",
            "EPOCH : 6/9 || Batch Iteration : 400/907 || Avg_Loss from 300 to 400 : 2.556103619337082\n",
            "EPOCH : 6/9 || Batch Iteration : 500/907 || Avg_Loss from 400 to 500 : 2.578860114812851\n",
            "EPOCH : 6/9 || Batch Iteration : 600/907 || Avg_Loss from 500 to 600 : 2.5971234810352324\n",
            "EPOCH : 6/9 || Batch Iteration : 700/907 || Avg_Loss from 600 to 700 : 2.547038165330887\n",
            "EPOCH : 6/9 || Batch Iteration : 800/907 || Avg_Loss from 700 to 800 : 2.581703587770462\n",
            "EPOCH : 6/9 || Batch Iteration : 900/907 || Avg_Loss from 800 to 900 : 2.6083984637260436\n",
            "=> Saving checkpoint\n",
            " ************** EPOCH - 6/9 **************\n",
            "|       Average Loss : 2.564653463111297           |\n",
            " ********************************************\n",
            "\n",
            "EPOCH : 7/9 || Batch Iteration : 100/907 || Avg_Loss from 0 to 100 : 2.3564436447620394\n",
            "EPOCH : 7/9 || Batch Iteration : 200/907 || Avg_Loss from 100 to 200 : 2.3885090947151184\n",
            "EPOCH : 7/9 || Batch Iteration : 300/907 || Avg_Loss from 200 to 300 : 2.3919448709487914\n",
            "EPOCH : 7/9 || Batch Iteration : 400/907 || Avg_Loss from 300 to 400 : 2.4401124370098115\n",
            "EPOCH : 7/9 || Batch Iteration : 500/907 || Avg_Loss from 400 to 500 : 2.4186608481407164\n",
            "EPOCH : 7/9 || Batch Iteration : 600/907 || Avg_Loss from 500 to 600 : 2.4663724160194396\n",
            "EPOCH : 7/9 || Batch Iteration : 700/907 || Avg_Loss from 600 to 700 : 2.416076514720917\n",
            "EPOCH : 7/9 || Batch Iteration : 800/907 || Avg_Loss from 700 to 800 : 2.46641135931015\n",
            "EPOCH : 7/9 || Batch Iteration : 900/907 || Avg_Loss from 800 to 900 : 2.4801067423820498\n",
            "=> Saving checkpoint\n",
            " ************** EPOCH - 7/9 **************\n",
            "|       Average Loss : 2.426388407226697           |\n",
            " ********************************************\n",
            "\n",
            "EPOCH : 8/9 || Batch Iteration : 100/907 || Avg_Loss from 0 to 100 : 2.17302787899971\n",
            "EPOCH : 8/9 || Batch Iteration : 200/907 || Avg_Loss from 100 to 200 : 2.2374988293647764\n",
            "EPOCH : 8/9 || Batch Iteration : 300/907 || Avg_Loss from 200 to 300 : 2.285360926389694\n",
            "EPOCH : 8/9 || Batch Iteration : 400/907 || Avg_Loss from 300 to 400 : 2.2996440935134888\n",
            "EPOCH : 8/9 || Batch Iteration : 500/907 || Avg_Loss from 400 to 500 : 2.3412056839466096\n",
            "EPOCH : 8/9 || Batch Iteration : 600/907 || Avg_Loss from 500 to 600 : 2.2990118849277494\n",
            "EPOCH : 8/9 || Batch Iteration : 700/907 || Avg_Loss from 600 to 700 : 2.324723528623581\n",
            "EPOCH : 8/9 || Batch Iteration : 800/907 || Avg_Loss from 700 to 800 : 2.329240107536316\n",
            "EPOCH : 8/9 || Batch Iteration : 900/907 || Avg_Loss from 800 to 900 : 2.317229201793671\n",
            "=> Saving checkpoint\n",
            " ************** EPOCH - 8/9 **************\n",
            "|       Average Loss : 2.29183860939682           |\n",
            " ********************************************\n",
            "\n",
            "EPOCH : 9/9 || Batch Iteration : 100/907 || Avg_Loss from 0 to 100 : 2.0948163509368896\n",
            "EPOCH : 9/9 || Batch Iteration : 200/907 || Avg_Loss from 100 to 200 : 2.163513180017471\n",
            "EPOCH : 9/9 || Batch Iteration : 300/907 || Avg_Loss from 200 to 300 : 2.1282447016239168\n",
            "EPOCH : 9/9 || Batch Iteration : 400/907 || Avg_Loss from 300 to 400 : 2.1691764986515043\n",
            "EPOCH : 9/9 || Batch Iteration : 500/907 || Avg_Loss from 400 to 500 : 2.178717269897461\n",
            "EPOCH : 9/9 || Batch Iteration : 600/907 || Avg_Loss from 500 to 600 : 2.1999385166168213\n",
            "EPOCH : 9/9 || Batch Iteration : 700/907 || Avg_Loss from 600 to 700 : 2.1855241537094114\n",
            "EPOCH : 9/9 || Batch Iteration : 800/907 || Avg_Loss from 700 to 800 : 2.214658703804016\n",
            "EPOCH : 9/9 || Batch Iteration : 900/907 || Avg_Loss from 800 to 900 : 2.2513569843769075\n",
            "=> Saving checkpoint\n",
            "\n",
            " **************  TRAINING DONE 10 EPOCHS  ************\n",
            " **********  0 Hours, 15 Minutes, 44 Seconds  ********\n",
            " ====================================================\n",
            "|              Average Loss : 2.1772984462115574     |\n",
            " ====================================================\n"
          ],
          "name": "stdout"
        }
      ]
    },
    {
      "cell_type": "code",
      "metadata": {
        "id": "w0ygiQ69HI56",
        "colab": {
          "base_uri": "https://localhost:8080/",
          "height": 278
        },
        "outputId": "2b4ffe87-4d5f-4fba-adc4-4ec0a9985c4e"
      },
      "source": [
        "#source  \n",
        "plt.plot(plot_['epoch'], plot_['avg_loss'])\n",
        "plt.xlabel('epoch')\n",
        "plt.ylabel('avg_loss')\n",
        "plt.show()"
      ],
      "execution_count": 51,
      "outputs": [
        {
          "output_type": "display_data",
          "data": {
            "image/png": "[encoded data removed]",
            "text/plain": [
              "<Figure size 432x288 with 1 Axes>"
            ]
          },
          "metadata": {
            "tags": [],
            "needs_background": "light"
          }
        }
      ]
    }
  ]
}